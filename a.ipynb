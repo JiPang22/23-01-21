program a
implicit none
integer i
